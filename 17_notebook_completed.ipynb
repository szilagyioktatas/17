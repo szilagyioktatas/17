{
 "cells": [
  {
   "cell_type": "markdown",
   "metadata": {},
   "source": [
    "# Kódoljunk kicsit\n",
    "Hasznos:\n",
    "- csv link: https://www.programiz.com/python-programming/csv\n",
    "- json link: https://www.w3schools.com/python/python_json.asp\n"
   ]
  },
  {
   "cell_type": "code",
   "execution_count": 21,
   "metadata": {},
   "outputs": [
    {
     "name": "stdout",
     "output_type": "stream",
     "text": [
      "['név', 'kor', 'város']\n",
      "['Anna', '28', 'Budapest']\n",
      "['Béla', '32', 'Szeged']\n",
      "['Csaba', '45', 'Debrecen']\n"
     ]
    }
   ],
   "source": [
    "import csv\n",
    "\n",
    "with open('adatok.csv', mode='r', encoding='utf-8') as file:\n",
    "    csv_reader = csv.reader(file)\n",
    "    for row in csv_reader:\n",
    "        print(row)"
   ]
  },
  {
   "cell_type": "code",
   "execution_count": 22,
   "metadata": {},
   "outputs": [
    {
     "name": "stdout",
     "output_type": "stream",
     "text": [
      "{'név': 'Anna', 'kor': '28', 'város': 'Budapest'}\n",
      "{'név': 'Béla', 'kor': '32', 'város': 'Szeged'}\n",
      "{'név': 'Csaba', 'kor': '45', 'város': 'Debrecen'}\n"
     ]
    }
   ],
   "source": [
    "import csv\n",
    "\n",
    "with open('adatok.csv', mode='r', encoding='utf-8') as file:\n",
    "    csv_reader = csv.DictReader(file)\n",
    "    for row in csv_reader:\n",
    "        print(row)"
   ]
  },
  {
   "cell_type": "code",
   "execution_count": 23,
   "metadata": {},
   "outputs": [],
   "source": [
    "import csv\n",
    "\n",
    "adatok = [\n",
    "    ['név', 'kor', 'város'],\n",
    "    ['Dóra', '27', 'Pécs'],\n",
    "    ['Elemér', '35', 'Győr'],\n",
    "    ['Fanni', '29', 'Miskolc']\n",
    "]\n",
    "\n",
    "with open('uj_adatok.csv', mode='w', newline='', encoding='utf-8') as file:\n",
    "    csv_writer = csv.writer(file)\n",
    "    csv_writer.writerows(adatok)"
   ]
  },
  {
   "cell_type": "code",
   "execution_count": 24,
   "metadata": {},
   "outputs": [],
   "source": [
    "import csv\n",
    "\n",
    "adatok = [\n",
    "    {'név': 'Gábor', 'kor': '40', 'város': 'Sopron'},\n",
    "    {'név': 'Hanna', 'kor': '22', 'város': 'Kecskemét'},\n",
    "    {'név': 'István', 'kor': '37', 'város': 'Eger'}\n",
    "]\n",
    "\n",
    "with open('uj_adatok_dict.csv', mode='w', newline='', encoding='utf-8') as file:\n",
    "    fieldnames = ['név', 'kor', 'város']\n",
    "    csv_writer = csv.DictWriter(file, fieldnames=fieldnames)\n",
    "    \n",
    "    csv_writer.writeheader()  # Fejléc sor írása\n",
    "    csv_writer.writerows(adatok)"
   ]
  },
  {
   "cell_type": "markdown",
   "metadata": {},
   "source": [
    "Innentől json"
   ]
  },
  {
   "cell_type": "code",
   "execution_count": 25,
   "metadata": {},
   "outputs": [
    {
     "name": "stdout",
     "output_type": "stream",
     "text": [
      "30\n"
     ]
    }
   ],
   "source": [
    "import json\n",
    "\n",
    "# some JSON:\n",
    "x =  '{ \"name\":\"John\", \"age\":30, \"city\":\"New York\"}'\n",
    "\n",
    "# parse x:\n",
    "y = json.loads(x)\n",
    "\n",
    "# the result is a Python dictionary:\n",
    "print(y[\"age\"])"
   ]
  },
  {
   "cell_type": "code",
   "execution_count": 20,
   "metadata": {},
   "outputs": [
    {
     "name": "stdout",
     "output_type": "stream",
     "text": [
      "{\"name\": \"John\", \"age\": 30, \"city\": \"New York\"}\n"
     ]
    }
   ],
   "source": [
    "import json\n",
    "\n",
    "# a Python object (dict):\n",
    "x = {\n",
    "  \"name\": \"John\",\n",
    "  \"age\": 30,\n",
    "  \"city\": \"New York\"\n",
    "}\n",
    "\n",
    "# convert into JSON:\n",
    "y = json.dumps(x)\n",
    "\n",
    "# the result is a JSON string:\n",
    "print(y)"
   ]
  },
  {
   "cell_type": "code",
   "execution_count": 19,
   "metadata": {},
   "outputs": [
    {
     "name": "stdout",
     "output_type": "stream",
     "text": [
      "{\"name\": \"John\", \"age\": 30}\n",
      "[\"apple\", \"bananas\"]\n",
      "[\"apple\", \"bananas\"]\n",
      "\"hello\"\n",
      "42\n",
      "31.76\n",
      "true\n",
      "false\n",
      "null\n"
     ]
    }
   ],
   "source": [
    "import json\n",
    "\n",
    "print(json.dumps({\"name\": \"John\", \"age\": 30}))\n",
    "print(json.dumps([\"apple\", \"bananas\"]))\n",
    "print(json.dumps((\"apple\", \"bananas\")))\n",
    "print(json.dumps(\"hello\"))\n",
    "print(json.dumps(42))\n",
    "print(json.dumps(31.76))\n",
    "print(json.dumps(True))\n",
    "print(json.dumps(False))\n",
    "print(json.dumps(None))"
   ]
  },
  {
   "cell_type": "code",
   "execution_count": 26,
   "metadata": {},
   "outputs": [
    {
     "data": {
      "text/plain": [
       "{'strings': ['alma', 'körte', 'banán', 'szilva', 'dinnye']}"
      ]
     },
     "execution_count": 26,
     "metadata": {},
     "output_type": "execute_result"
    }
   ],
   "source": [
    "{\n",
    "    \"strings\": [\n",
    "        \"alma\",\n",
    "        \"körte\",\n",
    "        \"banán\",\n",
    "        \"szilva\",\n",
    "        \"dinnye\"\n",
    "    ]\n",
    "}"
   ]
  },
  {
   "cell_type": "code",
   "execution_count": 28,
   "metadata": {},
   "outputs": [
    {
     "name": "stdout",
     "output_type": "stream",
     "text": [
      "<class 'dict'>\n"
     ]
    }
   ],
   "source": [
    "import json\n",
    "\n",
    "# A JSON-adatok, amelyeket a fájlba írunk\n",
    "data = {\n",
    "    \"strings\": [\n",
    "        \"alma\",\n",
    "        \"körte\",\n",
    "        \"banán\",\n",
    "        \"szilva\",\n",
    "        \"dinnye\"\n",
    "    ]\n",
    "}\n",
    "print(type(data))\n",
    "# JSON fájl létrehozása és írása\n",
    "with open('data.json', 'w') as json_file:\n",
    "    json.dump(data, json_file)\n"
   ]
  },
  {
   "cell_type": "code",
   "execution_count": 17,
   "metadata": {},
   "outputs": [
    {
     "name": "stdout",
     "output_type": "stream",
     "text": [
      "A második leghosszabb string: dinnye\n"
     ]
    }
   ],
   "source": [
    "import json\n",
    "\n",
    "def second_longest_string(strings):\n",
    "    if len(strings) < 2:\n",
    "        return \"A lista nem tartalmaz elegendő elemet.\"\n",
    "    \n",
    "    # Rendezés a stringek hossza alapján, csökkenő sorrendben\n",
    "    sorted_strings = sorted(strings, key=len, reverse=True)\n",
    "    \n",
    "    # A második leghosszabb string visszaadása\n",
    "    return sorted_strings[1]\n",
    "\n",
    "# JSON fájl beolvasása\n",
    "with open('data.json', 'r') as file:\n",
    "    data = json.load(file)\n",
    "\n",
    "# A 'strings' lista kiolvasása a JSON-ból\n",
    "strings_list = data[\"strings\"]\n",
    "\n",
    "# A második leghosszabb string megtalálása\n",
    "result = second_longest_string(strings_list)\n",
    "print(\"A második leghosszabb string:\", result)\n"
   ]
  },
  {
   "cell_type": "code",
   "execution_count": 31,
   "metadata": {},
   "outputs": [
    {
     "data": {
      "text/plain": [
       "4"
      ]
     },
     "execution_count": 31,
     "metadata": {},
     "output_type": "execute_result"
    }
   ],
   "source": [
    "import utils.MyModul as mm\n",
    "\n",
    "mm.add(1,3)"
   ]
  },
  {
   "cell_type": "markdown",
   "metadata": {},
   "source": [
    "*args and **kwargs\n",
    "\n",
    "https://www.geeksforgeeks.org/args-kwargs-python/"
   ]
  },
  {
   "cell_type": "code",
   "execution_count": null,
   "metadata": {},
   "outputs": [],
   "source": []
  }
 ],
 "metadata": {
  "kernelspec": {
   "display_name": "Python 3",
   "language": "python",
   "name": "python3"
  },
  "language_info": {
   "codemirror_mode": {
    "name": "ipython",
    "version": 3
   },
   "file_extension": ".py",
   "mimetype": "text/x-python",
   "name": "python",
   "nbconvert_exporter": "python",
   "pygments_lexer": "ipython3",
   "version": "3.12.4"
  }
 },
 "nbformat": 4,
 "nbformat_minor": 2
}
